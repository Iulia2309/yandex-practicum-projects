{
 "cells": [
  {
   "cell_type": "markdown",
   "id": "2deb6dff",
   "metadata": {
    "toc": true
   },
   "source": [
    "<h1>Содержание<span class=\"tocSkip\"></span></h1>\n",
    "<div class=\"toc\"><ul class=\"toc-item\"><li><span><a href=\"#Обзор-базы-данных\" data-toc-modified-id=\"Обзор-базы-данных-1\"><span class=\"toc-item-num\">1&nbsp;&nbsp;</span>Обзор базы данных</a></span></li><li><span><a href=\"#Выполнение-запросов-к-базе-данных\" data-toc-modified-id=\"Выполнение-запросов-к-базе-данных-2\"><span class=\"toc-item-num\">2&nbsp;&nbsp;</span>Выполнение запросов к базе данных</a></span><ul class=\"toc-item\"><li><span><a href=\"#Подсчёт-количества-книг,-вышедших-после-1-января-2000-года\" data-toc-modified-id=\"Подсчёт-количества-книг,-вышедших-после-1-января-2000-года-2.1\"><span class=\"toc-item-num\">2.1&nbsp;&nbsp;</span>Подсчёт количества книг, вышедших после 1 января 2000 года</a></span></li><li><span><a href=\"#Подсчёт-количества-обзоров-и-средней-оценки-для-каждой-книги\" data-toc-modified-id=\"Подсчёт-количества-обзоров-и-средней-оценки-для-каждой-книги-2.2\"><span class=\"toc-item-num\">2.2&nbsp;&nbsp;</span>Подсчёт количества обзоров и средней оценки для каждой книги</a></span></li><li><span><a href=\"#Определения-издательства,-которое-выпустило-наибольшее-число-книг-толще-50-страниц\" data-toc-modified-id=\"Определения-издательства,-которое-выпустило-наибольшее-число-книг-толще-50-страниц-2.3\"><span class=\"toc-item-num\">2.3&nbsp;&nbsp;</span>Определения издательства, которое выпустило наибольшее число книг толще 50 страниц</a></span></li><li><span><a href=\"#Определение-автора-с-самой-высокой-средней-оценкой-книг-(книги-с-50-и-более-оценками)\" data-toc-modified-id=\"Определение-автора-с-самой-высокой-средней-оценкой-книг-(книги-с-50-и-более-оценками)-2.4\"><span class=\"toc-item-num\">2.4&nbsp;&nbsp;</span>Определение автора с самой высокой средней оценкой книг (книги с 50 и более оценками)</a></span></li><li><span><a href=\"#Расчёт-среднего-количества-обзоров-от-пользователей,-которые-поставили-больше-50-оценок\" data-toc-modified-id=\"Расчёт-среднего-количества-обзоров-от-пользователей,-которые-поставили-больше-50-оценок-2.5\"><span class=\"toc-item-num\">2.5&nbsp;&nbsp;</span>Расчёт среднего количества обзоров от пользователей, которые поставили больше 50 оценок</a></span></li></ul></li><li><span><a href=\"#Выводы\" data-toc-modified-id=\"Выводы-3\"><span class=\"toc-item-num\">3&nbsp;&nbsp;</span>Выводы</a></span></li></ul></div>"
   ]
  },
  {
   "cell_type": "markdown",
   "id": "bd822deb",
   "metadata": {},
   "source": [
    "# Изучение приложения для чтения"
   ]
  },
  {
   "cell_type": "markdown",
   "id": "469041bb",
   "metadata": {},
   "source": [
    "Компания купила крупный сервис для чтения книг по подписке. Задача аналитика — проанализировать базу данных.\n",
    "В ней — информация о книгах, издательствах, авторах, а также пользовательские обзоры книг. Эти данные помогут сформулировать ценностное предложение для нового продукта.\n",
    "\n",
    "**Цель работы:** проанализировать базу данных сервиса для чтения книг по подписке.\n",
    "    \n",
    "**Задачи работы:**\n",
    "\n",
    "1. Посчитать, сколько книг вышло после 1 января 2000 года;\n",
    "2. Для каждой книги посчитать количество обзоров и среднюю оценку;\n",
    "3. Определить издательство, которое выпустило наибольшее число книг толще 50 страниц (исключить брошюры);\n",
    "4. Определить автора с самой высокой средней оценкой книг — учитывать только книги с 50 и более оценками;\n",
    "5. Посчитать среднее количество обзоров от пользователей, которые поставили больше 50 оценок.\n",
    "\n",
    "**Исходные данные:** база данных с информацией о книгах, издательствах, авторах, а также пользовательские обзоры книг.\n",
    "\n",
    "**Описание данных:**\n",
    "    \n",
    "Таблица `books` содержит данные о книгах:\n",
    "    \n",
    "- `book_id` — идентификатор книги;\n",
    "- `author_id` — идентификатор автора;\n",
    "- `title` — название книги;\n",
    "- `num_pages` — количество страниц;\n",
    "- `publication_date` — дата публикации книги;\n",
    "- `publisher_id` — идентификатор издателя.\n",
    "\n",
    "Таблица `authors` содержит данные об авторах:\n",
    "    \n",
    "- `author_id `— идентификатор автора;\n",
    "- `author` — имя автора.\n",
    "\n",
    "Таблица `publishers` содержит данные об издательствах:\n",
    "    \n",
    "- `publisher_id` — идентификатор издательства;\n",
    "- `publisher` — название издательства.\n",
    "\n",
    "Таблица `ratings` содержит данные о пользовательских оценках книг:\n",
    "    \n",
    "- `rating_id` — идентификатор оценки;\n",
    "- `book_id` — идентификатор книги;\n",
    "- `username` — имя пользователя, оставившего оценку;\n",
    "- `rating` — оценка книги.\n",
    "\n",
    "Таблица `reviews` содержит данные о пользовательских обзорах:\n",
    "    \n",
    "- `review_id` — идентификатор обзора;\n",
    "- `book_id` — идентификатор книги;\n",
    "- `username` — имя автора обзора;\n",
    "- `text` — текст обзора."
   ]
  },
  {
   "cell_type": "markdown",
   "id": "da4394db",
   "metadata": {},
   "source": [
    "*Импортируем необходимые для работы библиотеки.*"
   ]
  },
  {
   "cell_type": "code",
   "execution_count": 1,
   "id": "9e2948a0",
   "metadata": {},
   "outputs": [],
   "source": [
    "import pandas as pd\n",
    "from sqlalchemy import create_engine"
   ]
  },
  {
   "cell_type": "markdown",
   "id": "7d724407",
   "metadata": {},
   "source": [
    "*Подготовим подключение к базе данных.*"
   ]
  },
  {
   "cell_type": "code",
   "execution_count": 2,
   "id": "525b2338",
   "metadata": {},
   "outputs": [],
   "source": [
    "# устанавливаем параметры\n",
    "db_config = {'user': 'praktikum_student', # имя пользователя\n",
    "             'pwd': 'Sdf4$2;d-d30pp', # пароль\n",
    "             'host': 'rc1b-wcoijxj3yxfsf3fs.mdb.yandexcloud.net',\n",
    "             'port': 6432, # порт подключения\n",
    "             'db': 'data-analyst-final-project-db'} # название базы данных\n",
    "\n",
    "connection_string = 'postgresql://{}:{}@{}:{}/{}'.format(db_config['user'],\n",
    "                                                         db_config['pwd'],\n",
    "                                                         db_config['host'],\n",
    "                                                         db_config['port'],\n",
    "                                                         db_config['db'])\n",
    "# сохраняем коннектор\n",
    "engine = create_engine(connection_string, connect_args={'sslmode':'require'}) "
   ]
  },
  {
   "cell_type": "markdown",
   "id": "0c1a4ad8",
   "metadata": {},
   "source": [
    "*Объявим функцию для выполнения запросов к БД.*"
   ]
  },
  {
   "cell_type": "code",
   "execution_count": 3,
   "id": "ae56a849",
   "metadata": {},
   "outputs": [],
   "source": [
    "def sql_query(query):\n",
    "    return pd.io.sql.read_sql(query, \n",
    "                              con = engine)"
   ]
  },
  {
   "cell_type": "markdown",
   "id": "d397fc6b",
   "metadata": {},
   "source": [
    "## Обзор базы данных"
   ]
  },
  {
   "cell_type": "markdown",
   "id": "f4e6b382",
   "metadata": {},
   "source": [
    "*Создадим запрос для вывода первых 5 строк таблицы `books` на экран.*"
   ]
  },
  {
   "cell_type": "code",
   "execution_count": 4,
   "id": "69b214e6",
   "metadata": {},
   "outputs": [],
   "source": [
    "query = '''\n",
    "           SELECT * \n",
    "           FROM books\n",
    "           LIMIT 5\n",
    "        '''"
   ]
  },
  {
   "cell_type": "markdown",
   "id": "16465b43",
   "metadata": {},
   "source": [
    "*Выведем первые 5 строк таблицы `books` на экран.*"
   ]
  },
  {
   "cell_type": "code",
   "execution_count": 5,
   "id": "2bf69db2",
   "metadata": {},
   "outputs": [
    {
     "data": {
      "text/html": [
       "<div>\n",
       "<style scoped>\n",
       "    .dataframe tbody tr th:only-of-type {\n",
       "        vertical-align: middle;\n",
       "    }\n",
       "\n",
       "    .dataframe tbody tr th {\n",
       "        vertical-align: top;\n",
       "    }\n",
       "\n",
       "    .dataframe thead th {\n",
       "        text-align: right;\n",
       "    }\n",
       "</style>\n",
       "<table border=\"1\" class=\"dataframe\">\n",
       "  <thead>\n",
       "    <tr style=\"text-align: right;\">\n",
       "      <th></th>\n",
       "      <th>book_id</th>\n",
       "      <th>author_id</th>\n",
       "      <th>title</th>\n",
       "      <th>num_pages</th>\n",
       "      <th>publication_date</th>\n",
       "      <th>publisher_id</th>\n",
       "    </tr>\n",
       "  </thead>\n",
       "  <tbody>\n",
       "    <tr>\n",
       "      <th>0</th>\n",
       "      <td>1</td>\n",
       "      <td>546</td>\n",
       "      <td>'Salem's Lot</td>\n",
       "      <td>594</td>\n",
       "      <td>2005-11-01</td>\n",
       "      <td>93</td>\n",
       "    </tr>\n",
       "    <tr>\n",
       "      <th>1</th>\n",
       "      <td>2</td>\n",
       "      <td>465</td>\n",
       "      <td>1 000 Places to See Before You Die</td>\n",
       "      <td>992</td>\n",
       "      <td>2003-05-22</td>\n",
       "      <td>336</td>\n",
       "    </tr>\n",
       "    <tr>\n",
       "      <th>2</th>\n",
       "      <td>3</td>\n",
       "      <td>407</td>\n",
       "      <td>13 Little Blue Envelopes (Little Blue Envelope...</td>\n",
       "      <td>322</td>\n",
       "      <td>2010-12-21</td>\n",
       "      <td>135</td>\n",
       "    </tr>\n",
       "    <tr>\n",
       "      <th>3</th>\n",
       "      <td>4</td>\n",
       "      <td>82</td>\n",
       "      <td>1491: New Revelations of the Americas Before C...</td>\n",
       "      <td>541</td>\n",
       "      <td>2006-10-10</td>\n",
       "      <td>309</td>\n",
       "    </tr>\n",
       "    <tr>\n",
       "      <th>4</th>\n",
       "      <td>5</td>\n",
       "      <td>125</td>\n",
       "      <td>1776</td>\n",
       "      <td>386</td>\n",
       "      <td>2006-07-04</td>\n",
       "      <td>268</td>\n",
       "    </tr>\n",
       "  </tbody>\n",
       "</table>\n",
       "</div>"
      ],
      "text/plain": [
       "   book_id  author_id                                              title  \\\n",
       "0        1        546                                       'Salem's Lot   \n",
       "1        2        465                 1 000 Places to See Before You Die   \n",
       "2        3        407  13 Little Blue Envelopes (Little Blue Envelope...   \n",
       "3        4         82  1491: New Revelations of the Americas Before C...   \n",
       "4        5        125                                               1776   \n",
       "\n",
       "   num_pages publication_date  publisher_id  \n",
       "0        594       2005-11-01            93  \n",
       "1        992       2003-05-22           336  \n",
       "2        322       2010-12-21           135  \n",
       "3        541       2006-10-10           309  \n",
       "4        386       2006-07-04           268  "
      ]
     },
     "execution_count": 5,
     "metadata": {},
     "output_type": "execute_result"
    }
   ],
   "source": [
    "sql_query(query)"
   ]
  },
  {
   "cell_type": "markdown",
   "id": "0db149a5",
   "metadata": {},
   "source": [
    "*Создадим запрос для вывода первых 5 строк таблицы `authors` на экран.*"
   ]
  },
  {
   "cell_type": "code",
   "execution_count": 6,
   "id": "993c5356",
   "metadata": {},
   "outputs": [],
   "source": [
    "query = '''\n",
    "           SELECT * \n",
    "           FROM authors\n",
    "           LIMIT 5\n",
    "        '''"
   ]
  },
  {
   "cell_type": "markdown",
   "id": "f880465c",
   "metadata": {},
   "source": [
    "*Выведем первые 5 строк таблицы `authors` на экран.*"
   ]
  },
  {
   "cell_type": "code",
   "execution_count": 7,
   "id": "dd81e46e",
   "metadata": {},
   "outputs": [
    {
     "data": {
      "text/html": [
       "<div>\n",
       "<style scoped>\n",
       "    .dataframe tbody tr th:only-of-type {\n",
       "        vertical-align: middle;\n",
       "    }\n",
       "\n",
       "    .dataframe tbody tr th {\n",
       "        vertical-align: top;\n",
       "    }\n",
       "\n",
       "    .dataframe thead th {\n",
       "        text-align: right;\n",
       "    }\n",
       "</style>\n",
       "<table border=\"1\" class=\"dataframe\">\n",
       "  <thead>\n",
       "    <tr style=\"text-align: right;\">\n",
       "      <th></th>\n",
       "      <th>author_id</th>\n",
       "      <th>author</th>\n",
       "    </tr>\n",
       "  </thead>\n",
       "  <tbody>\n",
       "    <tr>\n",
       "      <th>0</th>\n",
       "      <td>1</td>\n",
       "      <td>A.S. Byatt</td>\n",
       "    </tr>\n",
       "    <tr>\n",
       "      <th>1</th>\n",
       "      <td>2</td>\n",
       "      <td>Aesop/Laura Harris/Laura Gibbs</td>\n",
       "    </tr>\n",
       "    <tr>\n",
       "      <th>2</th>\n",
       "      <td>3</td>\n",
       "      <td>Agatha Christie</td>\n",
       "    </tr>\n",
       "    <tr>\n",
       "      <th>3</th>\n",
       "      <td>4</td>\n",
       "      <td>Alan Brennert</td>\n",
       "    </tr>\n",
       "    <tr>\n",
       "      <th>4</th>\n",
       "      <td>5</td>\n",
       "      <td>Alan Moore/David   Lloyd</td>\n",
       "    </tr>\n",
       "  </tbody>\n",
       "</table>\n",
       "</div>"
      ],
      "text/plain": [
       "   author_id                          author\n",
       "0          1                      A.S. Byatt\n",
       "1          2  Aesop/Laura Harris/Laura Gibbs\n",
       "2          3                 Agatha Christie\n",
       "3          4                   Alan Brennert\n",
       "4          5        Alan Moore/David   Lloyd"
      ]
     },
     "execution_count": 7,
     "metadata": {},
     "output_type": "execute_result"
    }
   ],
   "source": [
    "sql_query(query)"
   ]
  },
  {
   "cell_type": "markdown",
   "id": "d706dabb",
   "metadata": {},
   "source": [
    "*Создадим запрос для вывода первых 5 строк таблицы `publishers` на экран.*"
   ]
  },
  {
   "cell_type": "code",
   "execution_count": 8,
   "id": "b079d2f7",
   "metadata": {},
   "outputs": [],
   "source": [
    "query = '''\n",
    "           SELECT * \n",
    "           FROM publishers\n",
    "           LIMIT 5\n",
    "        '''"
   ]
  },
  {
   "cell_type": "markdown",
   "id": "7a798547",
   "metadata": {},
   "source": [
    "*Выведем первые 5 строк таблицы `publishers` на экран.*"
   ]
  },
  {
   "cell_type": "code",
   "execution_count": 9,
   "id": "b36f7a1e",
   "metadata": {},
   "outputs": [
    {
     "data": {
      "text/html": [
       "<div>\n",
       "<style scoped>\n",
       "    .dataframe tbody tr th:only-of-type {\n",
       "        vertical-align: middle;\n",
       "    }\n",
       "\n",
       "    .dataframe tbody tr th {\n",
       "        vertical-align: top;\n",
       "    }\n",
       "\n",
       "    .dataframe thead th {\n",
       "        text-align: right;\n",
       "    }\n",
       "</style>\n",
       "<table border=\"1\" class=\"dataframe\">\n",
       "  <thead>\n",
       "    <tr style=\"text-align: right;\">\n",
       "      <th></th>\n",
       "      <th>publisher_id</th>\n",
       "      <th>publisher</th>\n",
       "    </tr>\n",
       "  </thead>\n",
       "  <tbody>\n",
       "    <tr>\n",
       "      <th>0</th>\n",
       "      <td>1</td>\n",
       "      <td>Ace</td>\n",
       "    </tr>\n",
       "    <tr>\n",
       "      <th>1</th>\n",
       "      <td>2</td>\n",
       "      <td>Ace Book</td>\n",
       "    </tr>\n",
       "    <tr>\n",
       "      <th>2</th>\n",
       "      <td>3</td>\n",
       "      <td>Ace Books</td>\n",
       "    </tr>\n",
       "    <tr>\n",
       "      <th>3</th>\n",
       "      <td>4</td>\n",
       "      <td>Ace Hardcover</td>\n",
       "    </tr>\n",
       "    <tr>\n",
       "      <th>4</th>\n",
       "      <td>5</td>\n",
       "      <td>Addison Wesley Publishing Company</td>\n",
       "    </tr>\n",
       "  </tbody>\n",
       "</table>\n",
       "</div>"
      ],
      "text/plain": [
       "   publisher_id                          publisher\n",
       "0             1                                Ace\n",
       "1             2                           Ace Book\n",
       "2             3                          Ace Books\n",
       "3             4                      Ace Hardcover\n",
       "4             5  Addison Wesley Publishing Company"
      ]
     },
     "execution_count": 9,
     "metadata": {},
     "output_type": "execute_result"
    }
   ],
   "source": [
    "sql_query(query)"
   ]
  },
  {
   "cell_type": "markdown",
   "id": "f847a5f7",
   "metadata": {},
   "source": [
    "*Создадим запрос для вывода первых 5 строк таблицы `ratings` на экран.*"
   ]
  },
  {
   "cell_type": "code",
   "execution_count": 10,
   "id": "2ad72efa",
   "metadata": {},
   "outputs": [],
   "source": [
    "query = '''\n",
    "           SELECT * \n",
    "           FROM ratings\n",
    "           LIMIT 5\n",
    "        '''"
   ]
  },
  {
   "cell_type": "markdown",
   "id": "bdecf2f1",
   "metadata": {},
   "source": [
    "*Выведем первые 5 строк таблицы `ratings` на экран.*"
   ]
  },
  {
   "cell_type": "code",
   "execution_count": 11,
   "id": "f7f30be6",
   "metadata": {
    "scrolled": true
   },
   "outputs": [
    {
     "data": {
      "text/html": [
       "<div>\n",
       "<style scoped>\n",
       "    .dataframe tbody tr th:only-of-type {\n",
       "        vertical-align: middle;\n",
       "    }\n",
       "\n",
       "    .dataframe tbody tr th {\n",
       "        vertical-align: top;\n",
       "    }\n",
       "\n",
       "    .dataframe thead th {\n",
       "        text-align: right;\n",
       "    }\n",
       "</style>\n",
       "<table border=\"1\" class=\"dataframe\">\n",
       "  <thead>\n",
       "    <tr style=\"text-align: right;\">\n",
       "      <th></th>\n",
       "      <th>rating_id</th>\n",
       "      <th>book_id</th>\n",
       "      <th>username</th>\n",
       "      <th>rating</th>\n",
       "    </tr>\n",
       "  </thead>\n",
       "  <tbody>\n",
       "    <tr>\n",
       "      <th>0</th>\n",
       "      <td>1</td>\n",
       "      <td>1</td>\n",
       "      <td>ryanfranco</td>\n",
       "      <td>4</td>\n",
       "    </tr>\n",
       "    <tr>\n",
       "      <th>1</th>\n",
       "      <td>2</td>\n",
       "      <td>1</td>\n",
       "      <td>grantpatricia</td>\n",
       "      <td>2</td>\n",
       "    </tr>\n",
       "    <tr>\n",
       "      <th>2</th>\n",
       "      <td>3</td>\n",
       "      <td>1</td>\n",
       "      <td>brandtandrea</td>\n",
       "      <td>5</td>\n",
       "    </tr>\n",
       "    <tr>\n",
       "      <th>3</th>\n",
       "      <td>4</td>\n",
       "      <td>2</td>\n",
       "      <td>lorichen</td>\n",
       "      <td>3</td>\n",
       "    </tr>\n",
       "    <tr>\n",
       "      <th>4</th>\n",
       "      <td>5</td>\n",
       "      <td>2</td>\n",
       "      <td>mariokeller</td>\n",
       "      <td>2</td>\n",
       "    </tr>\n",
       "  </tbody>\n",
       "</table>\n",
       "</div>"
      ],
      "text/plain": [
       "   rating_id  book_id       username  rating\n",
       "0          1        1     ryanfranco       4\n",
       "1          2        1  grantpatricia       2\n",
       "2          3        1   brandtandrea       5\n",
       "3          4        2       lorichen       3\n",
       "4          5        2    mariokeller       2"
      ]
     },
     "execution_count": 11,
     "metadata": {},
     "output_type": "execute_result"
    }
   ],
   "source": [
    "sql_query(query)"
   ]
  },
  {
   "cell_type": "markdown",
   "id": "a8d8bb13",
   "metadata": {},
   "source": [
    "*Создадим запрос для вывода первых 5 строк таблицы `reviews` на экран.*"
   ]
  },
  {
   "cell_type": "code",
   "execution_count": 12,
   "id": "f13c936b",
   "metadata": {},
   "outputs": [],
   "source": [
    "query = '''\n",
    "           SELECT * \n",
    "           FROM reviews\n",
    "           LIMIT 5\n",
    "        '''"
   ]
  },
  {
   "cell_type": "markdown",
   "id": "f3cf43bd",
   "metadata": {},
   "source": [
    "*Выведем первые 5 строк таблицы `reviews` на экран.*"
   ]
  },
  {
   "cell_type": "code",
   "execution_count": 13,
   "id": "ac7be453",
   "metadata": {},
   "outputs": [
    {
     "data": {
      "text/html": [
       "<div>\n",
       "<style scoped>\n",
       "    .dataframe tbody tr th:only-of-type {\n",
       "        vertical-align: middle;\n",
       "    }\n",
       "\n",
       "    .dataframe tbody tr th {\n",
       "        vertical-align: top;\n",
       "    }\n",
       "\n",
       "    .dataframe thead th {\n",
       "        text-align: right;\n",
       "    }\n",
       "</style>\n",
       "<table border=\"1\" class=\"dataframe\">\n",
       "  <thead>\n",
       "    <tr style=\"text-align: right;\">\n",
       "      <th></th>\n",
       "      <th>review_id</th>\n",
       "      <th>book_id</th>\n",
       "      <th>username</th>\n",
       "      <th>text</th>\n",
       "    </tr>\n",
       "  </thead>\n",
       "  <tbody>\n",
       "    <tr>\n",
       "      <th>0</th>\n",
       "      <td>1</td>\n",
       "      <td>1</td>\n",
       "      <td>brandtandrea</td>\n",
       "      <td>Mention society tell send professor analysis. ...</td>\n",
       "    </tr>\n",
       "    <tr>\n",
       "      <th>1</th>\n",
       "      <td>2</td>\n",
       "      <td>1</td>\n",
       "      <td>ryanfranco</td>\n",
       "      <td>Foot glass pretty audience hit themselves. Amo...</td>\n",
       "    </tr>\n",
       "    <tr>\n",
       "      <th>2</th>\n",
       "      <td>3</td>\n",
       "      <td>2</td>\n",
       "      <td>lorichen</td>\n",
       "      <td>Listen treat keep worry. Miss husband tax but ...</td>\n",
       "    </tr>\n",
       "    <tr>\n",
       "      <th>3</th>\n",
       "      <td>4</td>\n",
       "      <td>3</td>\n",
       "      <td>johnsonamanda</td>\n",
       "      <td>Finally month interesting blue could nature cu...</td>\n",
       "    </tr>\n",
       "    <tr>\n",
       "      <th>4</th>\n",
       "      <td>5</td>\n",
       "      <td>3</td>\n",
       "      <td>scotttamara</td>\n",
       "      <td>Nation purpose heavy give wait song will. List...</td>\n",
       "    </tr>\n",
       "  </tbody>\n",
       "</table>\n",
       "</div>"
      ],
      "text/plain": [
       "   review_id  book_id       username  \\\n",
       "0          1        1   brandtandrea   \n",
       "1          2        1     ryanfranco   \n",
       "2          3        2       lorichen   \n",
       "3          4        3  johnsonamanda   \n",
       "4          5        3    scotttamara   \n",
       "\n",
       "                                                text  \n",
       "0  Mention society tell send professor analysis. ...  \n",
       "1  Foot glass pretty audience hit themselves. Amo...  \n",
       "2  Listen treat keep worry. Miss husband tax but ...  \n",
       "3  Finally month interesting blue could nature cu...  \n",
       "4  Nation purpose heavy give wait song will. List...  "
      ]
     },
     "execution_count": 13,
     "metadata": {},
     "output_type": "execute_result"
    }
   ],
   "source": [
    "sql_query(query)"
   ]
  },
  {
   "cell_type": "markdown",
   "id": "7af56ef3",
   "metadata": {},
   "source": [
    "##  Выполнение запросов к базе данных"
   ]
  },
  {
   "cell_type": "markdown",
   "id": "df84fc96",
   "metadata": {},
   "source": [
    "### Подсчёт количества книг, вышедших после 1 января 2000 года"
   ]
  },
  {
   "cell_type": "markdown",
   "id": "f7f8ae35",
   "metadata": {},
   "source": [
    "*Создадим запрос для расчёта количества книг, вышедших после 1 января 2000 года.*"
   ]
  },
  {
   "cell_type": "code",
   "execution_count": 14,
   "id": "3fe6e5f2",
   "metadata": {
    "scrolled": true
   },
   "outputs": [],
   "source": [
    "query = '''\n",
    "           SELECT COUNT(book_id) \n",
    "           FROM books\n",
    "           WHERE publication_date > '2000-01-01';\n",
    "        '''"
   ]
  },
  {
   "cell_type": "markdown",
   "id": "7f9f3fac",
   "metadata": {},
   "source": [
    "*Посчитаем количество книг, вышедших после 1 января 2000 года.*"
   ]
  },
  {
   "cell_type": "code",
   "execution_count": 15,
   "id": "7cdc70bf",
   "metadata": {},
   "outputs": [
    {
     "data": {
      "text/html": [
       "<div>\n",
       "<style scoped>\n",
       "    .dataframe tbody tr th:only-of-type {\n",
       "        vertical-align: middle;\n",
       "    }\n",
       "\n",
       "    .dataframe tbody tr th {\n",
       "        vertical-align: top;\n",
       "    }\n",
       "\n",
       "    .dataframe thead th {\n",
       "        text-align: right;\n",
       "    }\n",
       "</style>\n",
       "<table border=\"1\" class=\"dataframe\">\n",
       "  <thead>\n",
       "    <tr style=\"text-align: right;\">\n",
       "      <th></th>\n",
       "      <th>count</th>\n",
       "    </tr>\n",
       "  </thead>\n",
       "  <tbody>\n",
       "    <tr>\n",
       "      <th>0</th>\n",
       "      <td>819</td>\n",
       "    </tr>\n",
       "  </tbody>\n",
       "</table>\n",
       "</div>"
      ],
      "text/plain": [
       "   count\n",
       "0    819"
      ]
     },
     "execution_count": 15,
     "metadata": {},
     "output_type": "execute_result"
    }
   ],
   "source": [
    "sql_query(query)"
   ]
  },
  {
   "cell_type": "markdown",
   "id": "8a8f8e93",
   "metadata": {},
   "source": [
    "**После 1 января 2000 года было выпущено 819 книг. Маловато, однако.**"
   ]
  },
  {
   "cell_type": "markdown",
   "id": "b0cb7294",
   "metadata": {},
   "source": [
    "### Подсчёт количества обзоров и средней оценки для каждой книги"
   ]
  },
  {
   "cell_type": "markdown",
   "id": "ef16479f",
   "metadata": {},
   "source": [
    "*Создадим запрос для подсчёта количества обзоров и средней оценки для каждой книги.*"
   ]
  },
  {
   "cell_type": "code",
   "execution_count": 16,
   "id": "148f43d3",
   "metadata": {},
   "outputs": [],
   "source": [
    "query = '''\n",
    "           SELECT b.book_id,\n",
    "                  b.title,\n",
    "                  COUNT(DISTINCT(rw.review_id)) AS review_count,\n",
    "                  AVG(rt.rating) AS avg_rating\n",
    "           FROM books AS b\n",
    "           LEFT JOIN ratings AS rt ON b.book_id = rt.book_id\n",
    "           LEFT JOIN reviews AS rw ON b.book_id = rw.book_id\n",
    "           GROUP BY b.book_id\n",
    "           ORDER BY COUNT(DISTINCT(rw.review_id)) DESC, AVG(rt.rating) DESC\n",
    "           \n",
    "        '''"
   ]
  },
  {
   "cell_type": "markdown",
   "id": "62b2d42c",
   "metadata": {},
   "source": [
    "*Выведем вычисленные количество обзоров и средние оценки для каждой книги.*"
   ]
  },
  {
   "cell_type": "code",
   "execution_count": 17,
   "id": "e7c4ff8e",
   "metadata": {},
   "outputs": [
    {
     "data": {
      "text/html": [
       "<div>\n",
       "<style scoped>\n",
       "    .dataframe tbody tr th:only-of-type {\n",
       "        vertical-align: middle;\n",
       "    }\n",
       "\n",
       "    .dataframe tbody tr th {\n",
       "        vertical-align: top;\n",
       "    }\n",
       "\n",
       "    .dataframe thead th {\n",
       "        text-align: right;\n",
       "    }\n",
       "</style>\n",
       "<table border=\"1\" class=\"dataframe\">\n",
       "  <thead>\n",
       "    <tr style=\"text-align: right;\">\n",
       "      <th></th>\n",
       "      <th>book_id</th>\n",
       "      <th>title</th>\n",
       "      <th>review_count</th>\n",
       "      <th>avg_rating</th>\n",
       "    </tr>\n",
       "  </thead>\n",
       "  <tbody>\n",
       "    <tr>\n",
       "      <th>0</th>\n",
       "      <td>948</td>\n",
       "      <td>Twilight (Twilight  #1)</td>\n",
       "      <td>7</td>\n",
       "      <td>3.662500</td>\n",
       "    </tr>\n",
       "    <tr>\n",
       "      <th>1</th>\n",
       "      <td>302</td>\n",
       "      <td>Harry Potter and the Prisoner of Azkaban (Harr...</td>\n",
       "      <td>6</td>\n",
       "      <td>4.414634</td>\n",
       "    </tr>\n",
       "    <tr>\n",
       "      <th>2</th>\n",
       "      <td>299</td>\n",
       "      <td>Harry Potter and the Chamber of Secrets (Harry...</td>\n",
       "      <td>6</td>\n",
       "      <td>4.287500</td>\n",
       "    </tr>\n",
       "    <tr>\n",
       "      <th>3</th>\n",
       "      <td>656</td>\n",
       "      <td>The Book Thief</td>\n",
       "      <td>6</td>\n",
       "      <td>4.264151</td>\n",
       "    </tr>\n",
       "    <tr>\n",
       "      <th>4</th>\n",
       "      <td>734</td>\n",
       "      <td>The Glass Castle</td>\n",
       "      <td>6</td>\n",
       "      <td>4.206897</td>\n",
       "    </tr>\n",
       "    <tr>\n",
       "      <th>...</th>\n",
       "      <td>...</td>\n",
       "      <td>...</td>\n",
       "      <td>...</td>\n",
       "      <td>...</td>\n",
       "    </tr>\n",
       "    <tr>\n",
       "      <th>995</th>\n",
       "      <td>191</td>\n",
       "      <td>Disney's Beauty and the Beast (A Little Golden...</td>\n",
       "      <td>0</td>\n",
       "      <td>4.000000</td>\n",
       "    </tr>\n",
       "    <tr>\n",
       "      <th>996</th>\n",
       "      <td>387</td>\n",
       "      <td>Leonardo's Notebooks</td>\n",
       "      <td>0</td>\n",
       "      <td>4.000000</td>\n",
       "    </tr>\n",
       "    <tr>\n",
       "      <th>997</th>\n",
       "      <td>221</td>\n",
       "      <td>Essential Tales and Poems</td>\n",
       "      <td>0</td>\n",
       "      <td>4.000000</td>\n",
       "    </tr>\n",
       "    <tr>\n",
       "      <th>998</th>\n",
       "      <td>83</td>\n",
       "      <td>Anne Rice's The Vampire Lestat: A Graphic Novel</td>\n",
       "      <td>0</td>\n",
       "      <td>3.666667</td>\n",
       "    </tr>\n",
       "    <tr>\n",
       "      <th>999</th>\n",
       "      <td>808</td>\n",
       "      <td>The Natural Way to Draw</td>\n",
       "      <td>0</td>\n",
       "      <td>3.000000</td>\n",
       "    </tr>\n",
       "  </tbody>\n",
       "</table>\n",
       "<p>1000 rows × 4 columns</p>\n",
       "</div>"
      ],
      "text/plain": [
       "     book_id                                              title  review_count  \\\n",
       "0        948                            Twilight (Twilight  #1)             7   \n",
       "1        302  Harry Potter and the Prisoner of Azkaban (Harr...             6   \n",
       "2        299  Harry Potter and the Chamber of Secrets (Harry...             6   \n",
       "3        656                                     The Book Thief             6   \n",
       "4        734                                   The Glass Castle             6   \n",
       "..       ...                                                ...           ...   \n",
       "995      191  Disney's Beauty and the Beast (A Little Golden...             0   \n",
       "996      387                               Leonardo's Notebooks             0   \n",
       "997      221                          Essential Tales and Poems             0   \n",
       "998       83    Anne Rice's The Vampire Lestat: A Graphic Novel             0   \n",
       "999      808                            The Natural Way to Draw             0   \n",
       "\n",
       "     avg_rating  \n",
       "0      3.662500  \n",
       "1      4.414634  \n",
       "2      4.287500  \n",
       "3      4.264151  \n",
       "4      4.206897  \n",
       "..          ...  \n",
       "995    4.000000  \n",
       "996    4.000000  \n",
       "997    4.000000  \n",
       "998    3.666667  \n",
       "999    3.000000  \n",
       "\n",
       "[1000 rows x 4 columns]"
      ]
     },
     "execution_count": 17,
     "metadata": {},
     "output_type": "execute_result"
    }
   ],
   "source": [
    "sql_query(query)"
   ]
  },
  {
   "cell_type": "markdown",
   "id": "5af7d167",
   "metadata": {},
   "source": [
    "**Больше всего обзоров (7) у книги \"Сумерки\", рейтинг при этом не слишком высокий (3.7). По 6 обзоров и наиболее высокие оценки у книг \"Гарри Поттер и узник Азкабана\" (4.4), \"Гарри Поттер и тайная комната\" (4.3), \"Книжный вор\" (4.3) и \"Замок из стекла\" (4.2).**"
   ]
  },
  {
   "cell_type": "markdown",
   "id": "f6c98041",
   "metadata": {},
   "source": [
    "### Определения издательства, которое выпустило наибольшее число книг толще 50 страниц"
   ]
  },
  {
   "cell_type": "markdown",
   "id": "a0dd953c",
   "metadata": {},
   "source": [
    "*Создадим запрос для определения издательства, которое выпустило наибольшее число книг толще 50 страниц.*"
   ]
  },
  {
   "cell_type": "code",
   "execution_count": 18,
   "id": "feb57e4b",
   "metadata": {},
   "outputs": [],
   "source": [
    "query = '''\n",
    "           WITH \n",
    "           pub AS (SELECT COUNT(b.book_id) AS thin_books_count,\n",
    "                          p.publisher\n",
    "                   FROM books AS b\n",
    "                   LEFT JOIN publishers AS p ON b.publisher_id = p.publisher_id\n",
    "                   WHERE b.num_pages > 50\n",
    "                   GROUP BY p.publisher)\n",
    "                      \n",
    "           SELECT publisher\n",
    "           FROM pub\n",
    "           WHERE thin_books_count = (SELECT MAX(thin_books_count)\n",
    "                                     FROM pub)\n",
    "                      \n",
    "        '''"
   ]
  },
  {
   "cell_type": "markdown",
   "id": "45abf5f9",
   "metadata": {},
   "source": [
    "*Выведем название издательства, которое выпустило наибольшее число книг толще 50 страниц.*"
   ]
  },
  {
   "cell_type": "code",
   "execution_count": 19,
   "id": "bed58547",
   "metadata": {
    "scrolled": true
   },
   "outputs": [
    {
     "data": {
      "text/html": [
       "<div>\n",
       "<style scoped>\n",
       "    .dataframe tbody tr th:only-of-type {\n",
       "        vertical-align: middle;\n",
       "    }\n",
       "\n",
       "    .dataframe tbody tr th {\n",
       "        vertical-align: top;\n",
       "    }\n",
       "\n",
       "    .dataframe thead th {\n",
       "        text-align: right;\n",
       "    }\n",
       "</style>\n",
       "<table border=\"1\" class=\"dataframe\">\n",
       "  <thead>\n",
       "    <tr style=\"text-align: right;\">\n",
       "      <th></th>\n",
       "      <th>publisher</th>\n",
       "    </tr>\n",
       "  </thead>\n",
       "  <tbody>\n",
       "    <tr>\n",
       "      <th>0</th>\n",
       "      <td>Penguin Books</td>\n",
       "    </tr>\n",
       "  </tbody>\n",
       "</table>\n",
       "</div>"
      ],
      "text/plain": [
       "       publisher\n",
       "0  Penguin Books"
      ]
     },
     "execution_count": 19,
     "metadata": {},
     "output_type": "execute_result"
    }
   ],
   "source": [
    "sql_query(query)"
   ]
  },
  {
   "cell_type": "markdown",
   "id": "f08e4b9a",
   "metadata": {},
   "source": [
    "**Больше всего книг выпустило издательство \"Penguin Books\".**"
   ]
  },
  {
   "cell_type": "markdown",
   "id": "46bceffa",
   "metadata": {},
   "source": [
    "### Определение автора с самой высокой средней оценкой книг (книги с 50 и более оценками)"
   ]
  },
  {
   "cell_type": "markdown",
   "id": "084f6210",
   "metadata": {},
   "source": [
    "*Создадим запрос для определения автора с самой высокой средней оценкой книг (учтём книги с 50 и более оценками).*"
   ]
  },
  {
   "cell_type": "code",
   "execution_count": 20,
   "id": "8915f169",
   "metadata": {},
   "outputs": [],
   "source": [
    "query = '''\n",
    "           WITH \n",
    "           au AS (SELECT a.author,\n",
    "                         AVG(r.rating) AS avg_rating\n",
    "                  FROM authors AS a\n",
    "                  LEFT JOIN books AS b ON a.author_id = b.author_id\n",
    "                  LEFT JOIN ratings AS r ON b.book_id = r.book_id\n",
    "                  WHERE b.book_id IN (SELECT b.book_id\n",
    "                                      FROM books AS b\n",
    "                                      LEFT JOIN ratings AS r ON b.book_id = r.book_id\n",
    "                                      GROUP BY b.book_id\n",
    "                                      HAVING COUNT(r.rating) >= 50)\n",
    "                  GROUP BY a.author_id)\n",
    "                      \n",
    "            SELECT author,\n",
    "                   avg_rating\n",
    "            FROM au\n",
    "            WHERE avg_rating = (SELECT MAX(avg_rating)\n",
    "                                FROM au)\n",
    "                      \n",
    "        '''"
   ]
  },
  {
   "cell_type": "markdown",
   "id": "d35939ab",
   "metadata": {},
   "source": [
    "*Выведем автора с самой высокой средней оценкой книг.*"
   ]
  },
  {
   "cell_type": "code",
   "execution_count": 21,
   "id": "d30e9f4e",
   "metadata": {},
   "outputs": [
    {
     "data": {
      "text/html": [
       "<div>\n",
       "<style scoped>\n",
       "    .dataframe tbody tr th:only-of-type {\n",
       "        vertical-align: middle;\n",
       "    }\n",
       "\n",
       "    .dataframe tbody tr th {\n",
       "        vertical-align: top;\n",
       "    }\n",
       "\n",
       "    .dataframe thead th {\n",
       "        text-align: right;\n",
       "    }\n",
       "</style>\n",
       "<table border=\"1\" class=\"dataframe\">\n",
       "  <thead>\n",
       "    <tr style=\"text-align: right;\">\n",
       "      <th></th>\n",
       "      <th>author</th>\n",
       "      <th>avg_rating</th>\n",
       "    </tr>\n",
       "  </thead>\n",
       "  <tbody>\n",
       "    <tr>\n",
       "      <th>0</th>\n",
       "      <td>J.K. Rowling/Mary GrandPré</td>\n",
       "      <td>4.287097</td>\n",
       "    </tr>\n",
       "  </tbody>\n",
       "</table>\n",
       "</div>"
      ],
      "text/plain": [
       "                       author  avg_rating\n",
       "0  J.K. Rowling/Mary GrandPré    4.287097"
      ]
     },
     "execution_count": 21,
     "metadata": {},
     "output_type": "execute_result"
    }
   ],
   "source": [
    "sql_query(query)"
   ]
  },
  {
   "cell_type": "markdown",
   "id": "c3d59a66",
   "metadata": {},
   "source": [
    "**Джоан Роулинг, указанная в соавторстве с иллюстратором \"Гарри Поттера\", занимает первое место в рейтинге писателей с самой высокой средней оценкой книг.**"
   ]
  },
  {
   "cell_type": "markdown",
   "id": "383ae440",
   "metadata": {},
   "source": [
    "### Расчёт среднего количества обзоров от пользователей, которые поставили больше 50 оценок"
   ]
  },
  {
   "cell_type": "markdown",
   "id": "ff178c00",
   "metadata": {},
   "source": [
    "*Создадим запрос для расчёта среднего количества обзоров от пользователей, которые поставили больше 50 оценок.*"
   ]
  },
  {
   "cell_type": "code",
   "execution_count": 22,
   "id": "4f7b8a41",
   "metadata": {},
   "outputs": [],
   "source": [
    "query = '''\n",
    "           WITH \n",
    "           u AS (SELECT username,\n",
    "                 COUNT(rating_id)\n",
    "                 FROM ratings\n",
    "                 GROUP BY username\n",
    "                 HAVING COUNT(rating_id) > 50\n",
    "                 ORDER BY COUNT(rating_id) DESC)\n",
    "                      \n",
    "           SELECT AVG(review_count)\n",
    "           FROM (SELECT u.username,\n",
    "                        COUNT(r.review_id) AS review_count\n",
    "                 FROM u\n",
    "                 LEFT JOIN reviews AS r ON u.username = r.username\n",
    "                 GROUP BY u.username) AS r\n",
    "                      \n",
    "                      \n",
    "         '''"
   ]
  },
  {
   "cell_type": "markdown",
   "id": "5296a3d3",
   "metadata": {},
   "source": [
    "*Выведем результат расчёта среднего количества обзоров от пользователей, которые поставили больше 50 оценок.*"
   ]
  },
  {
   "cell_type": "code",
   "execution_count": 23,
   "id": "86519ede",
   "metadata": {},
   "outputs": [
    {
     "data": {
      "text/html": [
       "<div>\n",
       "<style scoped>\n",
       "    .dataframe tbody tr th:only-of-type {\n",
       "        vertical-align: middle;\n",
       "    }\n",
       "\n",
       "    .dataframe tbody tr th {\n",
       "        vertical-align: top;\n",
       "    }\n",
       "\n",
       "    .dataframe thead th {\n",
       "        text-align: right;\n",
       "    }\n",
       "</style>\n",
       "<table border=\"1\" class=\"dataframe\">\n",
       "  <thead>\n",
       "    <tr style=\"text-align: right;\">\n",
       "      <th></th>\n",
       "      <th>avg</th>\n",
       "    </tr>\n",
       "  </thead>\n",
       "  <tbody>\n",
       "    <tr>\n",
       "      <th>0</th>\n",
       "      <td>24.333333</td>\n",
       "    </tr>\n",
       "  </tbody>\n",
       "</table>\n",
       "</div>"
      ],
      "text/plain": [
       "         avg\n",
       "0  24.333333"
      ]
     },
     "execution_count": 23,
     "metadata": {},
     "output_type": "execute_result"
    }
   ],
   "source": [
    "sql_query(query)"
   ]
  },
  {
   "cell_type": "markdown",
   "id": "43c0e981",
   "metadata": {},
   "source": [
    "**Пользователи, которые поставили больше 50 оценок, в среднем написали 24 обзора.**"
   ]
  },
  {
   "cell_type": "markdown",
   "id": "9f2f8943",
   "metadata": {},
   "source": [
    "## Выводы"
   ]
  },
  {
   "cell_type": "markdown",
   "id": "78cb0d21",
   "metadata": {},
   "source": [
    " **В ходе исследования была проанализирована база данных сервиса для чтения книг по подписке. В результате исследования сделаны следующие выводы:**\n",
    " \n",
    "1. После 1 января 2000 года было выпущено 819 книг.\n",
    "2. Больше всего обзоров (7) у книги \"Сумерки\", рейтинг при этом не слишком высокий (3.7). По 6 обзоров и наиболее высокие оценки у книг \"Гарри Поттер и узник Азкабана\" (4.4), \"Гарри Поттер и тайная комната\" (4.3), \"Книжный вор\" (4.3) и \"Замок из стекла\" (4.2).\n",
    "3. Больше всего книг выпустило издательство \"Penguin Books\".\n",
    "4. Джоан Роулинг занимает первое место в рейтинге писателей с самой высокой средней оценкой книг (4.3).\n",
    "5. Пользователи, которые поставили больше 50 оценок, в среднем написали 24 обзора.\n",
    " \n",
    "**На основании проведённого исследования можно заключить, что пользователи приложения преимущественно современные молодые люди, читающие книги разных жанров.**"
   ]
  }
 ],
 "metadata": {
  "ExecuteTimeLog": [
   {
    "duration": 587,
    "start_time": "2023-01-23T21:46:00.091Z"
   },
   {
    "duration": 5916,
    "start_time": "2023-01-23T21:46:00.680Z"
   },
   {
    "duration": 4,
    "start_time": "2023-01-23T21:46:06.598Z"
   },
   {
    "duration": 12,
    "start_time": "2023-01-23T21:46:06.605Z"
   },
   {
    "duration": 293,
    "start_time": "2023-01-23T21:46:06.619Z"
   },
   {
    "duration": 3,
    "start_time": "2023-01-23T21:46:06.914Z"
   },
   {
    "duration": 84,
    "start_time": "2023-01-23T21:46:06.920Z"
   },
   {
    "duration": 3,
    "start_time": "2023-01-23T21:46:07.007Z"
   },
   {
    "duration": 85,
    "start_time": "2023-01-23T21:46:07.017Z"
   },
   {
    "duration": 4,
    "start_time": "2023-01-23T21:46:07.106Z"
   },
   {
    "duration": 94,
    "start_time": "2023-01-23T21:46:07.112Z"
   },
   {
    "duration": 4,
    "start_time": "2023-01-23T21:46:07.208Z"
   },
   {
    "duration": 96,
    "start_time": "2023-01-23T21:46:07.213Z"
   },
   {
    "duration": 4,
    "start_time": "2023-01-23T21:46:07.311Z"
   },
   {
    "duration": 83,
    "start_time": "2023-01-23T21:46:07.317Z"
   },
   {
    "duration": 4,
    "start_time": "2023-01-23T21:46:07.403Z"
   },
   {
    "duration": 111,
    "start_time": "2023-01-23T21:46:07.409Z"
   },
   {
    "duration": 2,
    "start_time": "2023-01-23T21:46:07.522Z"
   },
   {
    "duration": 87,
    "start_time": "2023-01-23T21:46:07.526Z"
   },
   {
    "duration": 3,
    "start_time": "2023-01-23T21:46:07.615Z"
   },
   {
    "duration": 84,
    "start_time": "2023-01-23T21:46:07.620Z"
   },
   {
    "duration": 3,
    "start_time": "2023-01-23T21:46:07.706Z"
   },
   {
    "duration": 91,
    "start_time": "2023-01-23T21:46:07.712Z"
   },
   {
    "duration": 3,
    "start_time": "2023-01-23T21:49:16.767Z"
   },
   {
    "duration": 118,
    "start_time": "2023-01-23T21:49:18.708Z"
   },
   {
    "duration": 3,
    "start_time": "2023-01-23T21:49:28.204Z"
   },
   {
    "duration": 84,
    "start_time": "2023-01-23T21:49:29.239Z"
   },
   {
    "duration": 8,
    "start_time": "2023-01-24T06:27:20.256Z"
   },
   {
    "duration": 508,
    "start_time": "2023-01-24T06:27:34.071Z"
   },
   {
    "duration": 4953,
    "start_time": "2023-01-24T06:27:34.581Z"
   },
   {
    "duration": 3,
    "start_time": "2023-01-24T06:27:39.536Z"
   },
   {
    "duration": 11,
    "start_time": "2023-01-24T06:27:39.541Z"
   },
   {
    "duration": 276,
    "start_time": "2023-01-24T06:27:39.555Z"
   },
   {
    "duration": 2,
    "start_time": "2023-01-24T06:27:39.833Z"
   },
   {
    "duration": 80,
    "start_time": "2023-01-24T06:27:39.837Z"
   },
   {
    "duration": 3,
    "start_time": "2023-01-24T06:27:39.919Z"
   },
   {
    "duration": 91,
    "start_time": "2023-01-24T06:27:39.923Z"
   },
   {
    "duration": 3,
    "start_time": "2023-01-24T06:27:40.016Z"
   },
   {
    "duration": 98,
    "start_time": "2023-01-24T06:27:40.020Z"
   },
   {
    "duration": 2,
    "start_time": "2023-01-24T06:27:40.120Z"
   },
   {
    "duration": 81,
    "start_time": "2023-01-24T06:27:40.124Z"
   },
   {
    "duration": 2,
    "start_time": "2023-01-24T06:27:40.208Z"
   },
   {
    "duration": 86,
    "start_time": "2023-01-24T06:27:40.212Z"
   },
   {
    "duration": 3,
    "start_time": "2023-01-24T06:27:40.299Z"
   },
   {
    "duration": 13,
    "start_time": "2023-01-24T06:27:40.303Z"
   },
   {
    "duration": 77,
    "start_time": "2023-01-24T06:27:40.318Z"
   },
   {
    "duration": 3,
    "start_time": "2023-01-24T06:27:40.397Z"
   },
   {
    "duration": 87,
    "start_time": "2023-01-24T06:27:40.402Z"
   },
   {
    "duration": 3,
    "start_time": "2023-01-24T06:27:40.490Z"
   },
   {
    "duration": 105,
    "start_time": "2023-01-24T06:27:40.495Z"
   },
   {
    "duration": 3,
    "start_time": "2023-01-24T06:27:40.602Z"
   },
   {
    "duration": 91,
    "start_time": "2023-01-24T06:27:40.606Z"
   },
   {
    "duration": 642,
    "start_time": "2023-01-24T06:29:21.943Z"
   },
   {
    "duration": 4855,
    "start_time": "2023-01-24T06:29:22.589Z"
   },
   {
    "duration": 3,
    "start_time": "2023-01-24T06:29:27.446Z"
   },
   {
    "duration": 36,
    "start_time": "2023-01-24T06:29:27.451Z"
   },
   {
    "duration": 263,
    "start_time": "2023-01-24T06:29:27.489Z"
   },
   {
    "duration": 3,
    "start_time": "2023-01-24T06:29:27.753Z"
   },
   {
    "duration": 78,
    "start_time": "2023-01-24T06:29:27.758Z"
   },
   {
    "duration": 2,
    "start_time": "2023-01-24T06:29:27.838Z"
   },
   {
    "duration": 86,
    "start_time": "2023-01-24T06:29:27.842Z"
   },
   {
    "duration": 2,
    "start_time": "2023-01-24T06:29:27.930Z"
   },
   {
    "duration": 77,
    "start_time": "2023-01-24T06:29:27.934Z"
   },
   {
    "duration": 3,
    "start_time": "2023-01-24T06:29:28.012Z"
   },
   {
    "duration": 83,
    "start_time": "2023-01-24T06:29:28.016Z"
   },
   {
    "duration": 3,
    "start_time": "2023-01-24T06:29:28.101Z"
   },
   {
    "duration": 87,
    "start_time": "2023-01-24T06:29:28.105Z"
   },
   {
    "duration": 3,
    "start_time": "2023-01-24T06:29:28.193Z"
   },
   {
    "duration": 18,
    "start_time": "2023-01-24T06:29:28.198Z"
   },
   {
    "duration": 195,
    "start_time": "2023-01-24T06:29:28.218Z"
   },
   {
    "duration": 0,
    "start_time": "2023-01-24T06:29:28.415Z"
   },
   {
    "duration": 0,
    "start_time": "2023-01-24T06:29:28.416Z"
   },
   {
    "duration": 0,
    "start_time": "2023-01-24T06:29:28.417Z"
   },
   {
    "duration": 0,
    "start_time": "2023-01-24T06:29:28.418Z"
   },
   {
    "duration": 0,
    "start_time": "2023-01-24T06:29:28.419Z"
   },
   {
    "duration": 0,
    "start_time": "2023-01-24T06:29:28.420Z"
   },
   {
    "duration": 0,
    "start_time": "2023-01-24T06:29:28.421Z"
   },
   {
    "duration": 0,
    "start_time": "2023-01-24T06:29:28.422Z"
   },
   {
    "duration": 2,
    "start_time": "2023-01-24T06:30:09.048Z"
   },
   {
    "duration": 78,
    "start_time": "2023-01-24T06:30:09.662Z"
   },
   {
    "duration": 3,
    "start_time": "2023-01-24T06:30:17.305Z"
   },
   {
    "duration": 70,
    "start_time": "2023-01-24T06:30:17.838Z"
   },
   {
    "duration": 496,
    "start_time": "2023-01-24T06:30:33.896Z"
   },
   {
    "duration": 5890,
    "start_time": "2023-01-24T06:30:34.395Z"
   },
   {
    "duration": 3,
    "start_time": "2023-01-24T06:30:40.287Z"
   },
   {
    "duration": 12,
    "start_time": "2023-01-24T06:30:40.292Z"
   },
   {
    "duration": 268,
    "start_time": "2023-01-24T06:30:40.306Z"
   },
   {
    "duration": 3,
    "start_time": "2023-01-24T06:30:40.575Z"
   },
   {
    "duration": 76,
    "start_time": "2023-01-24T06:30:40.579Z"
   },
   {
    "duration": 3,
    "start_time": "2023-01-24T06:30:40.657Z"
   },
   {
    "duration": 77,
    "start_time": "2023-01-24T06:30:40.662Z"
   },
   {
    "duration": 3,
    "start_time": "2023-01-24T06:30:40.741Z"
   },
   {
    "duration": 80,
    "start_time": "2023-01-24T06:30:40.745Z"
   },
   {
    "duration": 3,
    "start_time": "2023-01-24T06:30:40.826Z"
   },
   {
    "duration": 84,
    "start_time": "2023-01-24T06:30:40.830Z"
   },
   {
    "duration": 2,
    "start_time": "2023-01-24T06:30:40.917Z"
   },
   {
    "duration": 80,
    "start_time": "2023-01-24T06:30:40.920Z"
   },
   {
    "duration": 3,
    "start_time": "2023-01-24T06:30:41.001Z"
   },
   {
    "duration": 22,
    "start_time": "2023-01-24T06:30:41.006Z"
   },
   {
    "duration": 93,
    "start_time": "2023-01-24T06:30:41.030Z"
   },
   {
    "duration": 3,
    "start_time": "2023-01-24T06:30:41.125Z"
   },
   {
    "duration": 79,
    "start_time": "2023-01-24T06:30:41.130Z"
   },
   {
    "duration": 3,
    "start_time": "2023-01-24T06:30:41.211Z"
   },
   {
    "duration": 89,
    "start_time": "2023-01-24T06:30:41.216Z"
   },
   {
    "duration": 3,
    "start_time": "2023-01-24T06:30:41.307Z"
   },
   {
    "duration": 119,
    "start_time": "2023-01-24T06:30:41.312Z"
   },
   {
    "duration": 3,
    "start_time": "2023-01-24T06:30:41.433Z"
   },
   {
    "duration": 91,
    "start_time": "2023-01-24T06:30:41.438Z"
   },
   {
    "duration": 3,
    "start_time": "2023-01-24T06:32:36.434Z"
   },
   {
    "duration": 108,
    "start_time": "2023-01-24T06:32:36.877Z"
   },
   {
    "duration": 3,
    "start_time": "2023-01-24T06:32:57.769Z"
   },
   {
    "duration": 105,
    "start_time": "2023-01-24T06:32:58.339Z"
   },
   {
    "duration": 2,
    "start_time": "2023-01-24T06:33:16.070Z"
   },
   {
    "duration": 78,
    "start_time": "2023-01-24T06:33:16.584Z"
   },
   {
    "duration": 2,
    "start_time": "2023-01-24T06:35:06.234Z"
   },
   {
    "duration": 119,
    "start_time": "2023-01-24T06:35:07.470Z"
   },
   {
    "duration": 3,
    "start_time": "2023-01-24T06:35:51.386Z"
   },
   {
    "duration": 122,
    "start_time": "2023-01-24T06:35:51.858Z"
   },
   {
    "duration": 3,
    "start_time": "2023-01-24T06:36:24.026Z"
   },
   {
    "duration": 105,
    "start_time": "2023-01-24T06:36:24.766Z"
   },
   {
    "duration": 575,
    "start_time": "2023-01-24T13:49:25.440Z"
   },
   {
    "duration": 5614,
    "start_time": "2023-01-24T13:49:26.018Z"
   },
   {
    "duration": 2,
    "start_time": "2023-01-24T13:49:31.634Z"
   },
   {
    "duration": 30,
    "start_time": "2023-01-24T13:49:31.639Z"
   },
   {
    "duration": 346,
    "start_time": "2023-01-24T13:49:31.671Z"
   },
   {
    "duration": 3,
    "start_time": "2023-01-24T13:49:32.018Z"
   },
   {
    "duration": 112,
    "start_time": "2023-01-24T13:49:32.023Z"
   },
   {
    "duration": 3,
    "start_time": "2023-01-24T13:49:32.137Z"
   },
   {
    "duration": 120,
    "start_time": "2023-01-24T13:49:32.142Z"
   },
   {
    "duration": 2,
    "start_time": "2023-01-24T13:49:32.266Z"
   },
   {
    "duration": 127,
    "start_time": "2023-01-24T13:49:32.270Z"
   },
   {
    "duration": 2,
    "start_time": "2023-01-24T13:49:32.399Z"
   },
   {
    "duration": 124,
    "start_time": "2023-01-24T13:49:32.402Z"
   },
   {
    "duration": 3,
    "start_time": "2023-01-24T13:49:32.528Z"
   },
   {
    "duration": 83,
    "start_time": "2023-01-24T13:49:32.533Z"
   },
   {
    "duration": 3,
    "start_time": "2023-01-24T13:49:32.618Z"
   },
   {
    "duration": 141,
    "start_time": "2023-01-24T13:49:32.623Z"
   },
   {
    "duration": 3,
    "start_time": "2023-01-24T13:49:32.766Z"
   },
   {
    "duration": 96,
    "start_time": "2023-01-24T13:49:32.770Z"
   },
   {
    "duration": 2,
    "start_time": "2023-01-24T13:49:32.868Z"
   },
   {
    "duration": 139,
    "start_time": "2023-01-24T13:49:32.872Z"
   },
   {
    "duration": 3,
    "start_time": "2023-01-24T13:49:33.013Z"
   },
   {
    "duration": 85,
    "start_time": "2023-01-24T13:49:33.018Z"
   },
   {
    "duration": 2,
    "start_time": "2023-01-24T13:49:33.105Z"
   },
   {
    "duration": 97,
    "start_time": "2023-01-24T13:49:33.109Z"
   },
   {
    "duration": 4,
    "start_time": "2023-01-24T13:49:33.208Z"
   },
   {
    "duration": 83,
    "start_time": "2023-01-24T13:49:33.214Z"
   },
   {
    "duration": 2,
    "start_time": "2023-01-24T13:51:04.988Z"
   },
   {
    "duration": 275,
    "start_time": "2023-01-24T13:51:05.443Z"
   },
   {
    "duration": 2,
    "start_time": "2023-01-24T13:54:45.321Z"
   },
   {
    "duration": 93,
    "start_time": "2023-01-24T13:54:45.688Z"
   },
   {
    "duration": 3,
    "start_time": "2023-01-24T13:57:31.425Z"
   },
   {
    "duration": 2361,
    "start_time": "2023-01-24T13:57:32.035Z"
   },
   {
    "duration": 3,
    "start_time": "2023-01-24T14:05:20.961Z"
   },
   {
    "duration": 79,
    "start_time": "2023-01-24T14:05:21.448Z"
   },
   {
    "duration": 3,
    "start_time": "2023-01-24T14:05:22.161Z"
   },
   {
    "duration": 122,
    "start_time": "2023-01-24T14:05:23.334Z"
   },
   {
    "duration": 4,
    "start_time": "2023-01-24T14:06:59.008Z"
   },
   {
    "duration": 140,
    "start_time": "2023-01-24T14:07:00.488Z"
   },
   {
    "duration": 3,
    "start_time": "2023-01-24T14:07:27.146Z"
   },
   {
    "duration": 88,
    "start_time": "2023-01-24T14:07:28.669Z"
   },
   {
    "duration": 3,
    "start_time": "2023-01-24T14:10:30.286Z"
   },
   {
    "duration": 1776,
    "start_time": "2023-01-24T14:10:31.331Z"
   },
   {
    "duration": 3,
    "start_time": "2023-01-24T14:12:25.622Z"
   },
   {
    "duration": 92,
    "start_time": "2023-01-24T14:12:26.526Z"
   },
   {
    "duration": 3,
    "start_time": "2023-01-24T14:23:11.091Z"
   },
   {
    "duration": 116,
    "start_time": "2023-01-24T14:23:12.259Z"
   },
   {
    "duration": 3,
    "start_time": "2023-01-24T14:24:30.953Z"
   },
   {
    "duration": 179,
    "start_time": "2023-01-24T14:24:31.778Z"
   },
   {
    "duration": 559,
    "start_time": "2023-01-24T15:04:44.361Z"
   },
   {
    "duration": 5213,
    "start_time": "2023-01-24T15:04:44.922Z"
   },
   {
    "duration": 3,
    "start_time": "2023-01-24T15:04:50.137Z"
   },
   {
    "duration": 37,
    "start_time": "2023-01-24T15:04:50.142Z"
   },
   {
    "duration": 307,
    "start_time": "2023-01-24T15:04:50.181Z"
   },
   {
    "duration": 3,
    "start_time": "2023-01-24T15:04:50.490Z"
   },
   {
    "duration": 102,
    "start_time": "2023-01-24T15:04:50.495Z"
   },
   {
    "duration": 3,
    "start_time": "2023-01-24T15:04:50.599Z"
   },
   {
    "duration": 106,
    "start_time": "2023-01-24T15:04:50.603Z"
   },
   {
    "duration": 3,
    "start_time": "2023-01-24T15:04:50.712Z"
   },
   {
    "duration": 98,
    "start_time": "2023-01-24T15:04:50.717Z"
   },
   {
    "duration": 3,
    "start_time": "2023-01-24T15:04:50.816Z"
   },
   {
    "duration": 89,
    "start_time": "2023-01-24T15:04:50.821Z"
   },
   {
    "duration": 3,
    "start_time": "2023-01-24T15:04:50.912Z"
   },
   {
    "duration": 95,
    "start_time": "2023-01-24T15:04:50.916Z"
   },
   {
    "duration": 4,
    "start_time": "2023-01-24T15:04:51.013Z"
   },
   {
    "duration": 138,
    "start_time": "2023-01-24T15:04:51.018Z"
   },
   {
    "duration": 4,
    "start_time": "2023-01-24T15:04:51.158Z"
   },
   {
    "duration": 93,
    "start_time": "2023-01-24T15:04:51.163Z"
   },
   {
    "duration": 3,
    "start_time": "2023-01-24T15:04:51.258Z"
   },
   {
    "duration": 107,
    "start_time": "2023-01-24T15:04:51.263Z"
   },
   {
    "duration": 3,
    "start_time": "2023-01-24T15:04:51.372Z"
   },
   {
    "duration": 94,
    "start_time": "2023-01-24T15:04:51.376Z"
   },
   {
    "duration": 3,
    "start_time": "2023-01-24T15:08:00.297Z"
   },
   {
    "duration": 135,
    "start_time": "2023-01-24T15:08:01.875Z"
   },
   {
    "duration": 3,
    "start_time": "2023-01-24T15:09:17.361Z"
   },
   {
    "duration": 84,
    "start_time": "2023-01-24T15:09:25.188Z"
   },
   {
    "duration": 484,
    "start_time": "2023-01-24T15:09:39.839Z"
   },
   {
    "duration": 5358,
    "start_time": "2023-01-24T15:09:40.325Z"
   },
   {
    "duration": 3,
    "start_time": "2023-01-24T15:09:45.688Z"
   },
   {
    "duration": 10,
    "start_time": "2023-01-24T15:09:45.693Z"
   },
   {
    "duration": 268,
    "start_time": "2023-01-24T15:09:45.705Z"
   },
   {
    "duration": 2,
    "start_time": "2023-01-24T15:09:45.975Z"
   },
   {
    "duration": 84,
    "start_time": "2023-01-24T15:09:45.979Z"
   },
   {
    "duration": 3,
    "start_time": "2023-01-24T15:09:46.064Z"
   },
   {
    "duration": 95,
    "start_time": "2023-01-24T15:09:46.070Z"
   },
   {
    "duration": 2,
    "start_time": "2023-01-24T15:09:46.167Z"
   },
   {
    "duration": 93,
    "start_time": "2023-01-24T15:09:46.172Z"
   },
   {
    "duration": 3,
    "start_time": "2023-01-24T15:09:46.266Z"
   },
   {
    "duration": 112,
    "start_time": "2023-01-24T15:09:46.270Z"
   },
   {
    "duration": 3,
    "start_time": "2023-01-24T15:09:46.384Z"
   },
   {
    "duration": 96,
    "start_time": "2023-01-24T15:09:46.388Z"
   },
   {
    "duration": 3,
    "start_time": "2023-01-24T15:09:46.486Z"
   },
   {
    "duration": 129,
    "start_time": "2023-01-24T15:09:46.491Z"
   },
   {
    "duration": 4,
    "start_time": "2023-01-24T15:09:46.622Z"
   },
   {
    "duration": 88,
    "start_time": "2023-01-24T15:09:46.628Z"
   },
   {
    "duration": 4,
    "start_time": "2023-01-24T15:09:46.718Z"
   },
   {
    "duration": 96,
    "start_time": "2023-01-24T15:09:46.725Z"
   },
   {
    "duration": 3,
    "start_time": "2023-01-24T15:09:46.823Z"
   },
   {
    "duration": 94,
    "start_time": "2023-01-24T15:09:46.828Z"
   }
  ],
  "kernelspec": {
   "display_name": "Python 3 (ipykernel)",
   "language": "python",
   "name": "python3"
  },
  "language_info": {
   "codemirror_mode": {
    "name": "ipython",
    "version": 3
   },
   "file_extension": ".py",
   "mimetype": "text/x-python",
   "name": "python",
   "nbconvert_exporter": "python",
   "pygments_lexer": "ipython3",
   "version": "3.9.13"
  },
  "toc": {
   "base_numbering": 1,
   "nav_menu": {},
   "number_sections": true,
   "sideBar": true,
   "skip_h1_title": true,
   "title_cell": "Содержание",
   "title_sidebar": "Содержание",
   "toc_cell": true,
   "toc_position": {
    "height": "calc(100% - 180px)",
    "left": "10px",
    "top": "150px",
    "width": "292.594px"
   },
   "toc_section_display": true,
   "toc_window_display": true
  }
 },
 "nbformat": 4,
 "nbformat_minor": 5
}
